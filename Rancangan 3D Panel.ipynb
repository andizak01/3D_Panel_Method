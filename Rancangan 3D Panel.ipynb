{
 "cells": [
  {
   "cell_type": "markdown",
   "metadata": {},
   "source": [
    "## NEED TO CREATE CLASS PANEL AND WAKE_PANELS\n",
    "### NEED TO CREATE X Y Z [i,j] which is the coordiante of panel_j wrt LOCAL coordinate panel_i\n",
    "### OR MAYBE THIS X Y Z can be the ATTRIBUTE OF the class PANEL \n",
    "\n",
    "### NEED TO CREATE Xw Yw Zw [i,j] which is the coordiante of panel_j wrt LOCAL coordinate of WAKE panel_i\n",
    "### OR MAYBE THIS Xw Yw Zw can be the ATTRIBUTE OF the class WAKE_PANEL "
   ]
  },
  {
   "cell_type": "code",
   "execution_count": 1,
   "metadata": {},
   "outputs": [],
   "source": [
    "# import libraries and modules needed\n",
    "import os\n",
    "import numpy\n",
    "from scipy import integrate, linalg\n",
    "from matplotlib import pyplot"
   ]
  },
  {
   "cell_type": "code",
   "execution_count": 2,
   "metadata": {},
   "outputs": [],
   "source": [
    "class Freestream:\n",
    "    \"\"\"\n",
    "    Freestream conditions.\n",
    "    \"\"\"\n",
    "    def __init__(self, u_inf = 1.0, alpha =0.0):\n",
    "        \"\"\"\n",
    "        Sets the freestream speed and angle (in degrees).\n",
    "        \n",
    "        Parameters\n",
    "        ----------\n",
    "        u_inf: float, optional\n",
    "            Freestream speed;\n",
    "            default: 1.0.\n",
    "        alpha: float, optional\n",
    "            Angle of attack in degrees;\n",
    "            default 0.0.\n",
    "        \"\"\"\n",
    "        self.u_inf = u_inf\n",
    "        self.alpha = numpy.radians(alpha)  # degrees to radians\n",
    "        \n",
    "        self.vector = numpy.array([self.u_inf*numpy.cos(self.alpha),\n",
    "                                   0, \n",
    "                                   self.u_inf*numpy.sin(self.alpha) ])"
   ]
  },
  {
   "cell_type": "code",
   "execution_count": 1,
   "metadata": {},
   "outputs": [],
   "source": [
    "class Panel:\n",
    "    \"\"\"\n",
    "    Panel object storing panel properties\n",
    "    \"\"\"\n",
    "    def __init__(self, x1, x2, x3, x4, y1, y2, y3, y4, S, nx, ny, nz):\n",
    "        \"\"\"\n",
    "        Parameters\n",
    "        ----------\n",
    "        x1, x2, x3, x4: float\n",
    "            x-coordinate (local) of the corner points\n",
    "        y1, y2, y3, y4: float\n",
    "            y-coordinate (local) of the corner points    \n",
    "        S: float\n",
    "            Panel surface area\n",
    "        nx, ny, nz: float\n",
    "            x, y, and z component of normal vector at each panel\n",
    "        normal: 1D array\n",
    "            panel outward normal\n",
    "        sigma: float\n",
    "            source strength\n",
    "        myu: float\n",
    "            doublet strength\n",
    "        \"\"\"\n",
    "        self.x1 = x1\n",
    "        self.x2 = x2\n",
    "        self.x3 = x3\n",
    "        self.x4 = x4\n",
    "        self.y1 = y1\n",
    "        self.y2 = y2\n",
    "        self.y3 = y3\n",
    "        self.y4 = y4\n",
    "        \n",
    "        self.S = S\n",
    "        self.normal = numpy.array([nx, ny, nz])\n",
    "        \n",
    "        self.sigma = 0\n",
    "        self.myu = 0"
   ]
  },
  {
   "cell_type": "code",
   "execution_count": null,
   "metadata": {},
   "outputs": [],
   "source": [
    "#N_panel = x1.size\n",
    "#panels = numpy.empty(N_panel, dtype=object)\n",
    "\n",
    "#for i in range(N_panel):\n",
    "#    panels[i] = Panel(x1[i], x2[i], x3[i], x4[i], y1[i], y2[i], y3[i], y4[i], S[i], nx[i], ny[i], nz[i])"
   ]
  },
  {
   "cell_type": "code",
   "execution_count": 3,
   "metadata": {},
   "outputs": [],
   "source": [
    "freestream = Freestream(1,30)"
   ]
  },
  {
   "cell_type": "code",
   "execution_count": 4,
   "metadata": {},
   "outputs": [
    {
     "data": {
      "text/plain": [
       "array([0.8660254, 0.       , 0.5      ])"
      ]
     },
     "execution_count": 4,
     "metadata": {},
     "output_type": "execute_result"
    }
   ],
   "source": [
    "freestream.vector"
   ]
  },
  {
   "cell_type": "code",
   "execution_count": 5,
   "metadata": {},
   "outputs": [],
   "source": [
    "n_panel = numpy.array([1, 1, 2])"
   ]
  },
  {
   "cell_type": "code",
   "execution_count": 6,
   "metadata": {},
   "outputs": [
    {
     "data": {
      "text/plain": [
       "1.8660254037844386"
      ]
     },
     "execution_count": 6,
     "metadata": {},
     "output_type": "execute_result"
    }
   ],
   "source": [
    "n_panel@freestream.vector"
   ]
  },
  {
   "cell_type": "code",
   "execution_count": 7,
   "metadata": {},
   "outputs": [],
   "source": [
    "def calculate_sigma(panels, freestream):\n",
    "    \"\"\"\n",
    "    Calculate the source strength for each panel in panels.\n",
    "    \n",
    "    Parameters\n",
    "    ----------\n",
    "    panels: 1D array of panel objects\n",
    "        List of panels.\n",
    "    freestream: object\n",
    "        Object defining freestream\n",
    "    \"\"\"\n",
    "    for i, panel_i in enumerate(panels):\n",
    "        panels[i].sigma = freestream.vector @ panel_i.normal"
   ]
  },
  {
   "cell_type": "code",
   "execution_count": 17,
   "metadata": {},
   "outputs": [],
   "source": [
    "# run this code\n",
    "# calculate_sigma(panels, freestream)"
   ]
  },
  {
   "cell_type": "code",
   "execution_count": 9,
   "metadata": {},
   "outputs": [],
   "source": [
    "# computing panel_i influence to OTHER panels\n",
    "# input : panels.x1,x2,x3,x4, y1,y2,y3,y4, Xoftherpanels, Yofotherpanels,  \n",
    "# source # doublet\n",
    "def influence_coeff(panels, X, Y, Z):\n",
    "    \"\"\"\n",
    "    Builds the source & doublet contribution matrix for the potential value at each other panel.\n",
    "    \n",
    "    Parameters\n",
    "    ----------\n",
    "    panels: 1D array of Panel objects\n",
    "        List of panels.\n",
    "    X: 2D array of floats [i,j]\n",
    "        x-coordinate of panel j with respect to local coordinate panel i\n",
    "    Y: 2D array of floats [i,j]\n",
    "        y-coordinate of panel j with respect to local coordinate panel i\n",
    "    Z: 2D array of floats [i,j]\n",
    "        z-coordinate of panel j with respect to local coordinate panel i\n",
    "        \n",
    "    Returns\n",
    "    -------\n",
    "    A: 2D Numpy array of floats\n",
    "        Doublet contribution matrix.\n",
    "    B: 2D Numpy array of floats\n",
    "        Source contribution matrix.\n",
    "    \"\"\"\n",
    "    A = numpy.empty((panels.size, panels.size), dtype=float)\n",
    "    B = numpy.empty((panels.size, panels.size), dtype=float)\n",
    "    \n",
    "    for i, panel_i in enumerate(panels):\n",
    "        # compute the PROPERTY of PANEL_i\n",
    "        y21 = panel_i.y2 - panel_i.y1\n",
    "        y32 = panel_i.y3 - panel_i.y2\n",
    "        y43 = panel_i.y4 - panel_i.y3\n",
    "        y14 = panel_i.y1 - panel_i.y4\n",
    "        \n",
    "        x21 = panel_i.x2 - panel_i.x1\n",
    "        x32 = panel_i.x3 - panel_i.x2\n",
    "        x43 = panel_i.x4 - panel_i.x3\n",
    "        x14 = panel_i.x1 - panel_i.x4        \n",
    "        \n",
    "        d12 = numpy.sqrt(x21**2 + y21**2)\n",
    "        d23 = numpy.sqrt(x32**2 + y32**2)\n",
    "        d34 = numpy.sqrt(x43**2 + y43**2)\n",
    "        d41 = numpy.sqrt(x14**2 + y14**2)\n",
    "        \n",
    "        m12 = y21 / x21\n",
    "        m23 = y32 / x32\n",
    "        m34 = y43 / x43\n",
    "        m41 = y14 / x14\n",
    "        \n",
    "        # compute r, e , and h to other panels from panel_i       \n",
    "        e1 = (X[i,:] - panel_i.x1)**2 + Z[i,:]**2\n",
    "        e2 = (X[i,:] - panel_i.x2)**2 + Z[i,:]**2\n",
    "        e3 = (X[i,:] - panel_i.x3)**2 + Z[i,:]**2\n",
    "        e4 = (X[i,:] - panel_i.x4)**2 + Z[i,:]**2\n",
    "        \n",
    "        r = numpy.sqrt( X[i,:]**2 + Y[i,:]**2 + Z[i,:]**2 )\n",
    "        r1 = numpy.sqrt( e1 + (Y[i,:] - panel_i.y1)**2 )\n",
    "        r2 = numpy.sqrt( e2 + (Y[i,:] - panel_i.y2)**2 )\n",
    "        r3 = numpy.sqrt( e3 + (Y[i,:] - panel_i.y3)**2 )\n",
    "        r4 = numpy.sqrt( e4 + (Y[i,:] - panel_i.y4)**2 )\n",
    "        \n",
    "        h1 = (X[i,:] - panel_i.x1) * (Y[i,:] - panel_i.y1)\n",
    "        h2 = (X[i,:] - panel_i.x2) * (Y[i,:] - panel_i.y2)\n",
    "        h3 = (X[i,:] - panel_i.x3) * (Y[i,:] - panel_i.y3)\n",
    "        h4 = (X[i,:] - panel_i.x4) * (Y[i,:] - panel_i.y4)\n",
    "        \n",
    "        # now compute the influence coefficient\n",
    "        for j in range(len(panels)):\n",
    "        #for j, panel_j in enumerate(panels):    \n",
    "            if j != i:                                          # not the same panel\n",
    "                if r[j] >= ( 5 * numpy.sqrt(panel_i.S) ):       # far-field\n",
    "                    A[j,i] = -panel_i.S / Z[i,j] * r[j]**(-3/2)\n",
    "                    B[j,i] = -panel_i.S / r[j]\n",
    "                else:\n",
    "                    A[j,i] = ( numpy.arctan2(m12*e1[j] - h1[j], Z[i,j]*r1[j])\n",
    "                             - numpy.arctan2(m12*e2[j] - h2[j], Z[i,j]*r2[j])\n",
    "                             + numpy.arctan2(m23*e2[j] - h2[j], Z[i,j]*r2[j])\n",
    "                             - numpy.arctan2(m23*e3[j] - h3[j], Z[i,j]*r3[j])\n",
    "                             + numpy.arctan2(m34*e3[j] - h3[j], Z[i,j]*r3[j])\n",
    "                             - numpy.arctan2(m34*e4[j] - h4[j], Z[i,j]*r4[j])\n",
    "                             + numpy.arctan2(m41*e4[j] - h4[j], Z[i,j]*r4[j])\n",
    "                             - numpy.arctan2(m41*e1[j] - h1[j], Z[i,j]*r1[j]) )\n",
    "                    B[j,i] = -(((X[i,j] - panel_i.x1)*y21 - (Y[i,j] - panel_i.y1)*x21) \n",
    "                                / d12 * numpy.log( (r1[j]+r2[j]+d12)/(r1[j]+r2[j]-d12) ) \n",
    "                             + ((X[i,j] - panel_i.x2)*y32 - (Y[i,j] - panel_i.y2)*x32) \n",
    "                                / d23 * numpy.log( (r2[j]+r3[j]+d23)/(r2[j]+r3[j]-d23) )\n",
    "                             + ((X[i,j] - panel_i.x3)*y43 - (Y[i,j] - panel_i.y3)*x43) \n",
    "                                / d34 * numpy.log( (r3[j]+r4[j]+d34)/(r3[j]+r4[j]-d34) )\n",
    "                             + ((X[i,j] - panel_i.x4)*y14 - (Y[i,j] - panel_i.y4)*x14) \n",
    "                                / d41 * numpy.log( (r4[j]+r1[j]+d41)/(r4[j]+r1[j]-d41) ) \n",
    "                             - numpy.absolute(Z[i,j]) * A[j,i] )     \n",
    "        A[i,i] = 0.5\n",
    "        B[i,i] = -(((X[i,i] - panel_i.x1)*y21 - (Y[i,i] - panel_i.y1)*x21) \n",
    "                    / d12 * numpy.log( (r1[i]+r2[i]+d12)/(r1[i]+r2[i]-d12) ) \n",
    "                 + ((X[i,i] - panel_i.x2)*y32 - (Y[i,i] - panel_i.y2)*x32) \n",
    "                    / d23 * numpy.log( (r2[i]+r3[i]+d23)/(r2[i]+r3[i]-d23) )\n",
    "                 + ((X[i,i] - panel_i.x3)*y43 - (Y[i,i] - panel_i.y3)*x43) \n",
    "                    / d34 * numpy.log( (r3[i]+r4[i]+d34)/(r3[i]+r4[i]-d34) )\n",
    "                 + ((X[i,i] - panel_i.x4)*y14 - (Y[i,i] - panel_i.y4)*x14) \n",
    "                    / d41 * numpy.log( (r4[i]+r1[i]+d41)/(r4[i]+r1[i]-d41) ) )  \n",
    "                   \n",
    "    A = A / (4*numpy.pi)\n",
    "    B = B / (4*numpy.pi)\n",
    "    \n",
    "    return A, B"
   ]
  },
  {
   "cell_type": "code",
   "execution_count": null,
   "metadata": {},
   "outputs": [],
   "source": [
    "# KUTTA CONDITION"
   ]
  },
  {
   "cell_type": "code",
   "execution_count": 11,
   "metadata": {},
   "outputs": [
    {
     "data": {
      "text/plain": [
       "array([0.        , 1.73205081, 1.73205081, 1.73205081])"
      ]
     },
     "execution_count": 11,
     "metadata": {},
     "output_type": "execute_result"
    }
   ],
   "source": [
    "xx1 = 1\n",
    "yy1 = 1\n",
    "ex = numpy.array([1, 2, 2, 2])\n",
    "ye = numpy.array([1, 2, 2, 2])\n",
    "zet = numpy.array([0, 1, 1, 1])\n",
    "numpy.sqrt( (ex-xx1)**2 + (ye-yy1)**2 + zet**2 )"
   ]
  },
  {
   "cell_type": "code",
   "execution_count": 12,
   "metadata": {},
   "outputs": [
    {
     "name": "stdout",
     "output_type": "stream",
     "text": [
      "0\n",
      "1\n",
      "2\n",
      "3\n"
     ]
    }
   ],
   "source": [
    "for i in range(len(ex)):\n",
    "    print(i)"
   ]
  },
  {
   "cell_type": "code",
   "execution_count": 13,
   "metadata": {},
   "outputs": [
    {
     "data": {
      "text/plain": [
       "0.4636476090008061"
      ]
     },
     "execution_count": 13,
     "metadata": {},
     "output_type": "execute_result"
    }
   ],
   "source": [
    "numpy.arctan2(0.5,1)"
   ]
  },
  {
   "cell_type": "code",
   "execution_count": 14,
   "metadata": {},
   "outputs": [
    {
     "data": {
      "text/plain": [
       "0.0"
      ]
     },
     "execution_count": 14,
     "metadata": {},
     "output_type": "execute_result"
    }
   ],
   "source": [
    "numpy.log(1)"
   ]
  },
  {
   "cell_type": "code",
   "execution_count": 15,
   "metadata": {},
   "outputs": [
    {
     "data": {
      "text/plain": [
       "4"
      ]
     },
     "execution_count": 15,
     "metadata": {},
     "output_type": "execute_result"
    }
   ],
   "source": [
    "ex.size"
   ]
  },
  {
   "cell_type": "code",
   "execution_count": 16,
   "metadata": {},
   "outputs": [],
   "source": [
    "# computing WAKE_panel_i influence to OTHER panels\n",
    "# input : panels.x1,x2,x3,x4, y1,y2,y3,y4, Xoftherpanels, Yofotherpanels, Zofotherpanels, \n",
    "# source # doublet\n",
    "def wake_influence_coeff(panels, X, Y, Z, size_of_wing_panels):\n",
    "    \"\"\"\n",
    "    Builds the source contribution matrix for the potential value at each other panel.\n",
    "    \n",
    "    Parameters\n",
    "    ----------\n",
    "    panels: 1D array of Wake_Panel objects\n",
    "        List of wake_panels.\n",
    "    X: 2D array of floats [i,j] size [number of wake panels x number of panels]\n",
    "        x-coordinate of panel j with respect to local coordinate wake_panel i\n",
    "    Y: 2D array of floats [i,j]\n",
    "        y-coordinate of panel j with respect to local coordinate wake_panel i\n",
    "    Z: 2D array of floats [i,j]\n",
    "        z-coordinate of panel j with respect to local coordinate wake_panel i\n",
    "        \n",
    "    Returns\n",
    "    -------\n",
    "    Aw: 2D Numpy array of floats\n",
    "        Wake doublet contribution matrix.\n",
    "    \"\"\"\n",
    "    Aw = numpy.empty((size_of_wing_panels, size_of_wing_panels), dtype=float)\n",
    "    \n",
    "    for i, panel_i in enumerate(panels):\n",
    "        # compute the PROPERTY of PANEL_i\n",
    "        y21 = panel_i.y2 - panel_i.y1\n",
    "        y32 = panel_i.y3 - panel_i.y2\n",
    "        y43 = panel_i.y4 - panel_i.y3\n",
    "        y14 = panel_i.y1 - panel_i.y4\n",
    "        \n",
    "        x21 = panel_i.x2 - panel_i.x1\n",
    "        x32 = panel_i.x3 - panel_i.x2\n",
    "        x43 = panel_i.x4 - panel_i.x3\n",
    "        x14 = panel_i.x1 - panel_i.x4        \n",
    "        \n",
    "        d12 = numpy.sqrt(x21**2 + y21**2)\n",
    "        d23 = numpy.sqrt(x32**2 + y32**2)\n",
    "        d34 = numpy.sqrt(x43**2 + y43**2)\n",
    "        d41 = numpy.sqrt(x14**2 + y14**2)\n",
    "        \n",
    "        m12 = y21 / x21\n",
    "        m23 = y32 / x32\n",
    "        m34 = y43 / x43\n",
    "        m41 = y14 / x14\n",
    "        \n",
    "        # compute r, e , and h to other panels from panel_i       \n",
    "        e1 = (X[i,:] - panel_i.x1)**2 + Z[i,:]**2\n",
    "        e2 = (X[i,:] - panel_i.x2)**2 + Z[i,:]**2\n",
    "        e3 = (X[i,:] - panel_i.x3)**2 + Z[i,:]**2\n",
    "        e4 = (X[i,:] - panel_i.x4)**2 + Z[i,:]**2\n",
    "        \n",
    "        r = numpy.sqrt( X[i,:]**2 + Y[i,:]**2 + Z[i,:]**2 )\n",
    "        r1 = numpy.sqrt( e1 + (Y[i,:] - panel_i.y1)**2 )\n",
    "        r2 = numpy.sqrt( e2 + (Y[i,:] - panel_i.y2)**2 )\n",
    "        r3 = numpy.sqrt( e3 + (Y[i,:] - panel_i.y3)**2 )\n",
    "        r4 = numpy.sqrt( e4 + (Y[i,:] - panel_i.y4)**2 )\n",
    "        \n",
    "        h1 = (X[i,:] - panel_i.x1) * (Y[i,:] - panel_i.y1)\n",
    "        h2 = (X[i,:] - panel_i.x2) * (Y[i,:] - panel_i.y2)\n",
    "        h3 = (X[i,:] - panel_i.x3) * (Y[i,:] - panel_i.y3)\n",
    "        h4 = (X[i,:] - panel_i.x4) * (Y[i,:] - panel_i.y4)\n",
    "        \n",
    "        # now compute the influence coefficient\n",
    "        for j in range(size_of_wing_panels):\n",
    "        # NOW THERE ARE NO SAME PANEL AND NO FARFIELD\n",
    "        #for j, panel_j in enumerate(panels):    \n",
    "            coeff = ( numpy.arctan2(m12*e1[j] - h1[j], Z[i,j]*r1[j])\n",
    "                     - numpy.arctan2(m12*e2[j] - h2[j], Z[i,j]*r2[j])\n",
    "                     + numpy.arctan2(m23*e2[j] - h2[j], Z[i,j]*r2[j])\n",
    "                     - numpy.arctan2(m23*e3[j] - h3[j], Z[i,j]*r3[j])\n",
    "                     + numpy.arctan2(m34*e3[j] - h3[j], Z[i,j]*r3[j])\n",
    "                     - numpy.arctan2(m34*e4[j] - h4[j], Z[i,j]*r4[j])\n",
    "                     + numpy.arctan2(m41*e4[j] - h4[j], Z[i,j]*r4[j])\n",
    "                     - numpy.arctan2(m41*e1[j] - h1[j], Z[i,j]*r1[j]) )\n",
    "            Aw[j, panel_i.ind_upper] = coeff\n",
    "            Aw[j, panel_i.ind_lower] = -coeff\n",
    "                \n",
    "    Aw = Aw / (4*numpy.pi)\n",
    "    \n",
    "    return Aw"
   ]
  },
  {
   "cell_type": "code",
   "execution_count": null,
   "metadata": {},
   "outputs": [],
   "source": [
    "# run this code\n",
    "# A, B = influence_coeff(panels, X, Y, Z)\n",
    "# Aw = wake_influence_coeff(panels, X, Y, Z, size_of_wing_panels)"
   ]
  },
  {
   "cell_type": "code",
   "execution_count": 18,
   "metadata": {},
   "outputs": [],
   "source": [
    "# Compute the Right Hand Side\n",
    "# run this code\n",
    "# RHS = numpy.dot(-B, [panel.sigma for panel in panels])\n",
    "\n",
    "# Compute the Left Hand Side Atot\n",
    "# run this code\n",
    "# Atot = A + Aw"
   ]
  },
  {
   "cell_type": "code",
   "execution_count": 19,
   "metadata": {},
   "outputs": [],
   "source": [
    "# solve for DOUBLET strengths\n",
    "# run this code\n",
    "# myus = numpy.linalg.solve(Atot, RHS)"
   ]
  },
  {
   "cell_type": "code",
   "execution_count": null,
   "metadata": {},
   "outputs": [],
   "source": [
    "# store source strength on each panel\n",
    "# run this code\n",
    "#for i, panel in enumerate(panels):\n",
    "#    panel.myu = myus[i]"
   ]
  }
 ],
 "metadata": {
  "kernelspec": {
   "display_name": "Python 3",
   "language": "python",
   "name": "python3"
  },
  "language_info": {
   "codemirror_mode": {
    "name": "ipython",
    "version": 3
   },
   "file_extension": ".py",
   "mimetype": "text/x-python",
   "name": "python",
   "nbconvert_exporter": "python",
   "pygments_lexer": "ipython3",
   "version": "3.7.4"
  }
 },
 "nbformat": 4,
 "nbformat_minor": 2
}
